{
 "metadata": {
  "language_info": {
   "codemirror_mode": {
    "name": "ipython",
    "version": 3
   },
   "file_extension": ".py",
   "mimetype": "text/x-python",
   "name": "python",
   "nbconvert_exporter": "python",
   "pygments_lexer": "ipython3",
   "version": "3.7.9"
  },
  "orig_nbformat": 2,
  "kernelspec": {
   "name": "python379jvsc74a57bd0f4d158fe5c13320a4e2fe03fb6b58c599830bfe52ddb82e7f2ffc7060a530f40",
   "display_name": "Python 3.7.9 64-bit ('base': conda)"
  }
 },
 "nbformat": 4,
 "nbformat_minor": 2,
 "cells": [
  {
   "source": [
    "# fine-mapping"
   ],
   "cell_type": "markdown",
   "metadata": {}
  },
  {
   "cell_type": "code",
   "execution_count": 1,
   "metadata": {},
   "outputs": [],
   "source": [
    "import numpy as np\n",
    "import pandas as pd"
   ]
  },
  {
   "cell_type": "code",
   "execution_count": 2,
   "metadata": {},
   "outputs": [],
   "source": [
    "## Extact the executation time from the nohup outputs\n",
    "def extract_exec_time(logs):\n",
    "    ''' Extract the executation time printed in the nohup log file '''\n",
    "    exec_time = {'PAINTOR': 0, 'CAVIARBF': 0, 'FINEMAP': 0}\n",
    "    with open(logs, 'r') as infile:\n",
    "        for line in infile:\n",
    "            if line.startswith('---'):\n",
    "                _, prog, _, _, time, _ = line.strip().split()\n",
    "                exec_time[prog] += int(time[:-1])\n",
    "    return exec_time"
   ]
  },
  {
   "cell_type": "code",
   "execution_count": 7,
   "metadata": {},
   "outputs": [
    {
     "output_type": "stream",
     "name": "stdout",
     "text": [
      "Execution time: PAINTOR = 1094 s, CAVIARBF = 810 s, FINEMAP = 335 s\n\nRelative exec time: PAINTOR = 3.265671641791045, CAVIARBF = 2.417910447761194, FINEMAP = 1.0\n"
     ]
    }
   ],
   "source": [
    "exec_time = extract_exec_time(\"output/def_param_nohup.out\")\n",
    "print(\"Execution time: PAINTOR = {} s, CAVIARBF = {} s, FINEMAP = {} s\\n\".format(*exec_time.values()))\n",
    "\n",
    "# Use FINEMAP runtime as a reference\n",
    "print(\"Relative exec time: PAINTOR = {}, CAVIARBF = {}, FINEMAP = {}\".format(*np.array(list(exec_time.values()))/exec_time['FINEMAP']))"
   ]
  },
  {
   "cell_type": "code",
   "execution_count": 6,
   "metadata": {},
   "outputs": [
    {
     "output_type": "stream",
     "name": "stdout",
     "text": [
      "(6684, 15)\n"
     ]
    },
    {
     "output_type": "execute_result",
     "data": {
      "text/plain": [
       "      CHR         BP        rsID     MAF EA NEA    BETA      SE  \\\n",
       "6683   19   45351516  rs41289512  0.0308  G   C  1.6384  0.0594   \n",
       "433    18   29088958   rs8093731  0.0119  T   C -0.6136  0.1123   \n",
       "396    11  121435587  rs11218343  0.0427  C   T -0.2697  0.0410   \n",
       "387    11   85867875  rs10792832  0.3718  A   G -0.1297  0.0161   \n",
       "397    14   92938855  rs12590654  0.3370  A   G -0.0965  0.0176   \n",
       "15      2  127892810   rs6733839  0.3797  T   C  0.1880  0.0176   \n",
       "16      2  127891427   rs4663105  0.4036  C   A  0.1837  0.0172   \n",
       "6675   19    1063443   rs4147929  0.1849  A   G  0.1348  0.0224   \n",
       "312     7  143099133  rs10808026  0.2227  A   C -0.1393  0.0206   \n",
       "326    11   60103385  rs72924659  0.2942  T   C -0.1413  0.0196   \n",
       "\n",
       "                  P     Zscore   PAINTOR  CAVIARBF   FINEMAP  block_id  label  \n",
       "6683  2.240000e-167  27.582492  1.000000  1.000000  1.000000      1609      7  \n",
       "433    4.630000e-08  -5.463936  0.989497  0.934788  0.992240      1547      7  \n",
       "396    4.976000e-11  -6.578049  0.983449  0.986059  0.985594      1169      7  \n",
       "387    6.534000e-16   8.055901  0.582329  0.599754  0.596197      1142      7  \n",
       "397    4.097000e-08  -5.482955  0.543408  0.551195  0.560980      1369      7  \n",
       "15     1.659000e-26  10.681818  0.504097  0.504220  0.504194       207      7  \n",
       "16     1.001000e-26  10.680233  0.495903  0.495779  0.495806       207      7  \n",
       "6675   1.701000e-09  -6.017857  0.380885  0.392008  0.389905      1580      7  \n",
       "312    1.417000e-11  -6.762136  0.342352  0.348517  0.347266       832      7  \n",
       "326    5.354000e-13  -7.209184  0.326261  0.345285  0.341369      1129      7  "
      ],
      "text/html": "<div>\n<style scoped>\n    .dataframe tbody tr th:only-of-type {\n        vertical-align: middle;\n    }\n\n    .dataframe tbody tr th {\n        vertical-align: top;\n    }\n\n    .dataframe thead th {\n        text-align: right;\n    }\n</style>\n<table border=\"1\" class=\"dataframe\">\n  <thead>\n    <tr style=\"text-align: right;\">\n      <th></th>\n      <th>CHR</th>\n      <th>BP</th>\n      <th>rsID</th>\n      <th>MAF</th>\n      <th>EA</th>\n      <th>NEA</th>\n      <th>BETA</th>\n      <th>SE</th>\n      <th>P</th>\n      <th>Zscore</th>\n      <th>PAINTOR</th>\n      <th>CAVIARBF</th>\n      <th>FINEMAP</th>\n      <th>block_id</th>\n      <th>label</th>\n    </tr>\n  </thead>\n  <tbody>\n    <tr>\n      <th>6683</th>\n      <td>19</td>\n      <td>45351516</td>\n      <td>rs41289512</td>\n      <td>0.0308</td>\n      <td>G</td>\n      <td>C</td>\n      <td>1.6384</td>\n      <td>0.0594</td>\n      <td>2.240000e-167</td>\n      <td>27.582492</td>\n      <td>1.000000</td>\n      <td>1.000000</td>\n      <td>1.000000</td>\n      <td>1609</td>\n      <td>7</td>\n    </tr>\n    <tr>\n      <th>433</th>\n      <td>18</td>\n      <td>29088958</td>\n      <td>rs8093731</td>\n      <td>0.0119</td>\n      <td>T</td>\n      <td>C</td>\n      <td>-0.6136</td>\n      <td>0.1123</td>\n      <td>4.630000e-08</td>\n      <td>-5.463936</td>\n      <td>0.989497</td>\n      <td>0.934788</td>\n      <td>0.992240</td>\n      <td>1547</td>\n      <td>7</td>\n    </tr>\n    <tr>\n      <th>396</th>\n      <td>11</td>\n      <td>121435587</td>\n      <td>rs11218343</td>\n      <td>0.0427</td>\n      <td>C</td>\n      <td>T</td>\n      <td>-0.2697</td>\n      <td>0.0410</td>\n      <td>4.976000e-11</td>\n      <td>-6.578049</td>\n      <td>0.983449</td>\n      <td>0.986059</td>\n      <td>0.985594</td>\n      <td>1169</td>\n      <td>7</td>\n    </tr>\n    <tr>\n      <th>387</th>\n      <td>11</td>\n      <td>85867875</td>\n      <td>rs10792832</td>\n      <td>0.3718</td>\n      <td>A</td>\n      <td>G</td>\n      <td>-0.1297</td>\n      <td>0.0161</td>\n      <td>6.534000e-16</td>\n      <td>8.055901</td>\n      <td>0.582329</td>\n      <td>0.599754</td>\n      <td>0.596197</td>\n      <td>1142</td>\n      <td>7</td>\n    </tr>\n    <tr>\n      <th>397</th>\n      <td>14</td>\n      <td>92938855</td>\n      <td>rs12590654</td>\n      <td>0.3370</td>\n      <td>A</td>\n      <td>G</td>\n      <td>-0.0965</td>\n      <td>0.0176</td>\n      <td>4.097000e-08</td>\n      <td>-5.482955</td>\n      <td>0.543408</td>\n      <td>0.551195</td>\n      <td>0.560980</td>\n      <td>1369</td>\n      <td>7</td>\n    </tr>\n    <tr>\n      <th>15</th>\n      <td>2</td>\n      <td>127892810</td>\n      <td>rs6733839</td>\n      <td>0.3797</td>\n      <td>T</td>\n      <td>C</td>\n      <td>0.1880</td>\n      <td>0.0176</td>\n      <td>1.659000e-26</td>\n      <td>10.681818</td>\n      <td>0.504097</td>\n      <td>0.504220</td>\n      <td>0.504194</td>\n      <td>207</td>\n      <td>7</td>\n    </tr>\n    <tr>\n      <th>16</th>\n      <td>2</td>\n      <td>127891427</td>\n      <td>rs4663105</td>\n      <td>0.4036</td>\n      <td>C</td>\n      <td>A</td>\n      <td>0.1837</td>\n      <td>0.0172</td>\n      <td>1.001000e-26</td>\n      <td>10.680233</td>\n      <td>0.495903</td>\n      <td>0.495779</td>\n      <td>0.495806</td>\n      <td>207</td>\n      <td>7</td>\n    </tr>\n    <tr>\n      <th>6675</th>\n      <td>19</td>\n      <td>1063443</td>\n      <td>rs4147929</td>\n      <td>0.1849</td>\n      <td>A</td>\n      <td>G</td>\n      <td>0.1348</td>\n      <td>0.0224</td>\n      <td>1.701000e-09</td>\n      <td>-6.017857</td>\n      <td>0.380885</td>\n      <td>0.392008</td>\n      <td>0.389905</td>\n      <td>1580</td>\n      <td>7</td>\n    </tr>\n    <tr>\n      <th>312</th>\n      <td>7</td>\n      <td>143099133</td>\n      <td>rs10808026</td>\n      <td>0.2227</td>\n      <td>A</td>\n      <td>C</td>\n      <td>-0.1393</td>\n      <td>0.0206</td>\n      <td>1.417000e-11</td>\n      <td>-6.762136</td>\n      <td>0.342352</td>\n      <td>0.348517</td>\n      <td>0.347266</td>\n      <td>832</td>\n      <td>7</td>\n    </tr>\n    <tr>\n      <th>326</th>\n      <td>11</td>\n      <td>60103385</td>\n      <td>rs72924659</td>\n      <td>0.2942</td>\n      <td>T</td>\n      <td>C</td>\n      <td>-0.1413</td>\n      <td>0.0196</td>\n      <td>5.354000e-13</td>\n      <td>-7.209184</td>\n      <td>0.326261</td>\n      <td>0.345285</td>\n      <td>0.341369</td>\n      <td>1129</td>\n      <td>7</td>\n    </tr>\n  </tbody>\n</table>\n</div>"
     },
     "metadata": {},
     "execution_count": 6
    }
   ],
   "source": [
    "## Load the final results (credible sets)\n",
    "df = pd.read_csv(\"output/def_param_tot_cred_set.txt\", sep='\\t', header=0)\n",
    "df = df.sort_values(['FINEMAP'], ascending=False)\n",
    "print(df.shape)\n",
    "df.head(10)"
   ]
  },
  {
   "cell_type": "code",
   "execution_count": null,
   "metadata": {},
   "outputs": [],
   "source": []
  }
 ]
}